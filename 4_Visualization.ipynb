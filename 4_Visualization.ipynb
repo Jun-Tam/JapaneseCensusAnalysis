{
 "cells": [
  {
   "cell_type": "markdown",
   "metadata": {},
   "source": [
    "## Part4 Visualization"
   ]
  },
  {
   "cell_type": "markdown",
   "metadata": {},
   "source": [
    "### ライブラリのインポート"
   ]
  },
  {
   "cell_type": "code",
   "execution_count": 1,
   "metadata": {},
   "outputs": [],
   "source": [
    "import geopandas as gpd\n",
    "import pandas as pd\n",
    "import numpy as np\n",
    "import matplotlib.pyplot as plt\n",
    "import matplotlib.pylab as pyl\n",
    "from matplotlib.colors import LinearSegmentedColormap\n",
    "import plotly.express as px\n",
    "import json"
   ]
  },
  {
   "cell_type": "markdown",
   "metadata": {},
   "source": [
    "### 前のパートで作成した、DataFrameをロード"
   ]
  },
  {
   "cell_type": "code",
   "execution_count": 2,
   "metadata": {},
   "outputs": [],
   "source": [
    "df = pd.read_csv('./df_analysis.csv')\n",
    "df.loc[:,'JCODE'] = df.loc[:,'JCODE'].apply(str).str.rjust(5,'0')\n",
    "df.set_index('JCODE',inplace=True)\n",
    "df.loc[:,'Class'] = df.loc[:,'Class'].apply(str)"
   ]
  },
  {
   "cell_type": "markdown",
   "metadata": {},
   "source": [
    "### シェープファイルから市区町村のジオメトリーポリゴンデータをロード"
   ]
  },
  {
   "cell_type": "code",
   "execution_count": 3,
   "metadata": {},
   "outputs": [],
   "source": [
    "path_shapefile = \"./japan_ver81/japan_ver81.shp\"\n",
    "df_gis = gpd.read_file(path_shapefile, encoding=\"SHIFT-JIS\")\n",
    "list_field = ['geometry','KEN']\n",
    "df_gis.set_index('JCODE',inplace=True)\n",
    "df_gis = df_gis.loc[pd.isnull(df_gis.index) == False,list_field]\n",
    "df_gis = df_gis.loc[df_gis.index.drop_duplicates()]"
   ]
  },
  {
   "cell_type": "markdown",
   "metadata": {},
   "source": [
    "### クラスター分類のクラス名を凡例用に変更"
   ]
  },
  {
   "cell_type": "code",
   "execution_count": 4,
   "metadata": {},
   "outputs": [],
   "source": [
    "def rename_class(df_concat):\n",
    "    df_concat.sort_values(by=['Class'],inplace=True)\n",
    "    num_class = len(df_concat.loc[:,'Class'].unique())\n",
    "    for i in range(num_class):\n",
    "        idx_rename = df_concat.loc[:,'Class'] == str(i)        \n",
    "        if i == 0:\n",
    "            df_concat.loc[idx_rename,'Class'] = 'N/A'\n",
    "        else:\n",
    "            df_concat.loc[idx_rename,'Class'] = 'Class '+ str(i)\n",
    "    return df_concat"
   ]
  },
  {
   "cell_type": "code",
   "execution_count": 5,
   "metadata": {},
   "outputs": [],
   "source": [
    "df_concat = pd.concat([df_gis,df], axis=1, sort=False)\n",
    "df_concat.loc[pd.isnull(df_concat['Class']) == True,'Class'] = str(0)\n",
    "df_concat.reset_index(inplace=True)\n",
    "df_concat.rename(columns={'index':'JCODE'},inplace=True)\n",
    "df_concat = rename_class(df_concat)"
   ]
  },
  {
   "cell_type": "markdown",
   "metadata": {},
   "source": [
    "### 地域の定義"
   ]
  },
  {
   "cell_type": "code",
   "execution_count": 6,
   "metadata": {},
   "outputs": [],
   "source": [
    "list_ken = list(df_gis.KEN.unique())\n",
    "list_reg = ['北海道','東北','関東','中部','近畿','中国','四国','九州','沖縄']\n",
    "dict_reg = {list_reg[0]:[list_ken[0]],list_reg[1]:list_ken[1:7],list_reg[2]:list_ken[7:14],\n",
    "            list_reg[3]:list_ken[14:23],list_reg[4]:list_ken[23:30],list_reg[5]:list_ken[30:35],\n",
    "            list_reg[6]:list_ken[35:39],list_reg[7]:list_ken[39:46],list_reg[8]:[list_ken[46]]}\n",
    "\n",
    "# 例えば近畿地方の市区町村のみを表示させる場合、以下の通り。以下の2行をコメントアウトすれば、全国の地図が表示される。\n",
    "name_region = list_reg[8]\n",
    "df_show = df_concat.loc[df_concat.loc[:,'KEN'].isin(dict_reg[name_region]),:]"
   ]
  },
  {
   "cell_type": "markdown",
   "metadata": {},
   "source": [
    "### Plotly Expressにより、インタラクティブな表示を行う。"
   ]
  },
  {
   "cell_type": "code",
   "execution_count": 7,
   "metadata": {},
   "outputs": [],
   "source": [
    "def plot_choropleth(df,geojson):\n",
    "    # Plotly Expressで表示\n",
    "    fig = px.choropleth(df,geojson=geojson,color=\"Class\",locations=\"JCODE\",\n",
    "                        featureidkey=\"properties.JCODE\", projection=\"mercator\",\n",
    "                        hover_data=[\"KEN\",\"CITY_JP\",\"Class\"])\n",
    "    fig.update_geos(fitbounds=\"locations\", visible=False)\n",
    "    fig.update_layout(margin={\"r\":0,\"t\":0,\"l\":0,\"b\":0})\n",
    "    fig.show()"
   ]
  },
  {
   "cell_type": "code",
   "execution_count": 8,
   "metadata": {},
   "outputs": [],
   "source": [
    "# ジオメトリーデータをgeojsonファイルとして保存し、読み込み。\n",
    "path_geojson = \"./japan_ver81/japan.geojson\"\n",
    "list_field = ['JCODE','CITY_ENG','Class']\n",
    "df_show.loc[:,['JCODE','geometry']].to_file(path_geojson, driver='GeoJSON')\n",
    "with open(path_geojson) as json_file:\n",
    "    geojson = json.load(json_file)"
   ]
  },
  {
   "cell_type": "code",
   "execution_count": null,
   "metadata": {},
   "outputs": [],
   "source": [
    "# ファイルサイズが大きいため、非表示。実際に作成された図はfigureフォルダに保存。\n",
    "plot_choropleth(df_show,geojson)"
   ]
  },
  {
   "cell_type": "markdown",
   "metadata": {},
   "source": [
    "Class1: 持ち家ありの家族世帯、治安良し、車社会、人口減少 <br>\n",
    "Class2: 若い夫婦が多い郊外 <br>\n",
    "Class3: あまり特徴なし、中規模の地方都市 <br>\n",
    "Class4: 混沌とした大都会 <br>\n",
    "Class5: ベッドタウン <br>\n",
    "Class6: 過疎化が進んでいる中規模の地方都市 <br>\n",
    "N/A:    データ不足のため、分析対象外、田舎"
   ]
  }
 ],
 "metadata": {
  "kernelspec": {
   "display_name": "Python 3",
   "language": "python",
   "name": "python3"
  },
  "language_info": {
   "codemirror_mode": {
    "name": "ipython",
    "version": 3
   },
   "file_extension": ".py",
   "mimetype": "text/x-python",
   "name": "python",
   "nbconvert_exporter": "python",
   "pygments_lexer": "ipython3",
   "version": "3.7.3"
  }
 },
 "nbformat": 4,
 "nbformat_minor": 2
}
